{
 "cells": [
  {
   "cell_type": "markdown",
   "metadata": {},
   "source": [
    "# Statistical Analysis\nCorrelation and regression."
   ]
  },
  {
   "cell_type": "code",
   "execution_count": null,
   "metadata": {},
   "outputs": [],
   "source": [
    "from egat.analysis import calculate_correlation, run_regression\nimport pandas as pd\n\n# Load preprocessed data\ndf = pd.read_csv('data/processed/merged_dataset.csv')\n\n# Correlation\nprint(calculate_correlation(df, ['Elevation', 'GW_Depth']))\n\n# Regression\nmodel, r2, rmse = run_regression(df, 'GW_Depth', ['Elevation', 'Land_Use', 'Drainage_Density', 'Soil_Permeability'])\nprint(f'R²: {r2}, RMSE: {rmse}')"
   ]
  }
 ],
 "metadata": {},
 "nbformat": 4,
 "nbformat_minor": 2
}
