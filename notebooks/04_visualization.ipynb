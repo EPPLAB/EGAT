{
 "cells": [
  {
   "cell_type": "markdown",
   "metadata": {},
   "source": [
    "# Visualization"
   ]
  },
  {
   "cell_type": "code",
   "execution_count": null,
   "metadata": {},
   "outputs": [],
   "source": [
    "from egat.visualization import plot_scatter, plot_feature_importance\nimport pandas as pd\n\n# Load data\ndf = pd.read_csv('data/processed/merged_dataset.csv')\n\n# Plots\nplot_scatter(df, 'Elevation', 'GW_Depth', 'data/examples/output/example_plots/elevation_vs_gw_depth.png')"
   ]
  }
 ],
 "metadata": {},
 "nbformat": 4,
 "nbformat_minor": 2
}
