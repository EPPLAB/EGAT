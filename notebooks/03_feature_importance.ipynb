{
 "cells": [
  {
   "cell_type": "markdown",
   "metadata": {},
   "source": [
    "# Feature Importance"
   ]
  },
  {
   "cell_type": "code",
   "execution_count": null,
   "metadata": {},
   "outputs": [],
   "source": [
    "from egat.feature_importance import calculate_feature_importance\nimport pandas as pd\n\n# Load data\ndf = pd.read_csv('data/processed/merged_dataset.csv')\nimportance = calculate_feature_importance(df, 'GW_Depth', ['Elevation', 'Land_Use', 'Drainage_Density', 'Soil_Permeability'])\nprint(importance)"
   ]
  }
 ],
 "metadata": {},
 "nbformat": 4,
 "nbformat_minor": 2
}
