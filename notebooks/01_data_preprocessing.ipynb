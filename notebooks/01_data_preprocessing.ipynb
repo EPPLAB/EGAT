{
 "cells": [
  {
   "cell_type": "markdown",
   "metadata": {},
   "source": [
    "# Data Preprocessing\nLoad and merge raw datasets."
   ]
  },
  {
   "cell_type": "code",
   "execution_count": null,
   "metadata": {},
   "outputs": [],
   "source": [
    "import pandas as pd\nfrom egat.preprocessing import load_and_merge\n\n# Merge all raw data\nmerged_df = load_and_merge('data/raw')\nmerged_df.to_csv('data/processed/merged_dataset.csv', index=False)\nmerged_df.head()"
   ]
  }
 ],
 "metadata": {},
 "nbformat": 4,
 "nbformat_minor": 2
}
